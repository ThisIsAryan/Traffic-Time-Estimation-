{
 "cells": [
  {
   "cell_type": "code",
   "execution_count": 3,
   "metadata": {},
   "outputs": [],
   "source": [
    "import pandas as pd"
   ]
  },
  {
   "cell_type": "code",
   "execution_count": 4,
   "metadata": {},
   "outputs": [],
   "source": [
    "df = pd.read_csv(\"data-set\\Weekday_Off_peak.csv\")"
   ]
  },
  {
   "cell_type": "code",
   "execution_count": 5,
   "metadata": {},
   "outputs": [
    {
     "data": {
      "text/html": [
       "<div>\n",
       "<style scoped>\n",
       "    .dataframe tbody tr th:only-of-type {\n",
       "        vertical-align: middle;\n",
       "    }\n",
       "\n",
       "    .dataframe tbody tr th {\n",
       "        vertical-align: top;\n",
       "    }\n",
       "\n",
       "    .dataframe thead th {\n",
       "        text-align: right;\n",
       "    }\n",
       "</style>\n",
       "<table border=\"1\" class=\"dataframe\">\n",
       "  <thead>\n",
       "    <tr style=\"text-align: right;\">\n",
       "      <th></th>\n",
       "      <th>Link</th>\n",
       "      <th>Node_Start</th>\n",
       "      <th>Longitude_Start</th>\n",
       "      <th>Latitude_Start</th>\n",
       "      <th>Node_End</th>\n",
       "      <th>Longitude_End</th>\n",
       "      <th>Latitude_End</th>\n",
       "      <th>Length</th>\n",
       "      <th>Unnamed: 8</th>\n",
       "      <th>Data1</th>\n",
       "      <th>...</th>\n",
       "      <th>Data41</th>\n",
       "      <th>Data42</th>\n",
       "      <th>Data43</th>\n",
       "      <th>Data44</th>\n",
       "      <th>Data45</th>\n",
       "      <th>Data46</th>\n",
       "      <th>Data47</th>\n",
       "      <th>Data48</th>\n",
       "      <th>Data49</th>\n",
       "      <th>Data50</th>\n",
       "    </tr>\n",
       "  </thead>\n",
       "  <tbody>\n",
       "    <tr>\n",
       "      <th>0</th>\n",
       "      <td>0</td>\n",
       "      <td>0</td>\n",
       "      <td>103.946006</td>\n",
       "      <td>30.750660</td>\n",
       "      <td>16</td>\n",
       "      <td>103.952551</td>\n",
       "      <td>30.756752</td>\n",
       "      <td>921.041014</td>\n",
       "      <td>NaN</td>\n",
       "      <td>89.587892</td>\n",
       "      <td>...</td>\n",
       "      <td>73.957197</td>\n",
       "      <td>88.184778</td>\n",
       "      <td>72.003206</td>\n",
       "      <td>88.184778</td>\n",
       "      <td>73.852526</td>\n",
       "      <td>75.069991</td>\n",
       "      <td>72.673921</td>\n",
       "      <td>77.629445</td>\n",
       "      <td>77.629445</td>\n",
       "      <td>83.310242</td>\n",
       "    </tr>\n",
       "    <tr>\n",
       "      <th>1</th>\n",
       "      <td>1</td>\n",
       "      <td>0</td>\n",
       "      <td>103.946006</td>\n",
       "      <td>30.750660</td>\n",
       "      <td>48</td>\n",
       "      <td>103.956494</td>\n",
       "      <td>30.745080</td>\n",
       "      <td>1179.207157</td>\n",
       "      <td>NaN</td>\n",
       "      <td>121.986947</td>\n",
       "      <td>...</td>\n",
       "      <td>113.506571</td>\n",
       "      <td>113.506571</td>\n",
       "      <td>140.895778</td>\n",
       "      <td>142.619070</td>\n",
       "      <td>139.213634</td>\n",
       "      <td>146.195291</td>\n",
       "      <td>132.868412</td>\n",
       "      <td>162.493618</td>\n",
       "      <td>162.493618</td>\n",
       "      <td>209.120481</td>\n",
       "    </tr>\n",
       "    <tr>\n",
       "      <th>2</th>\n",
       "      <td>2</td>\n",
       "      <td>0</td>\n",
       "      <td>103.946006</td>\n",
       "      <td>30.750660</td>\n",
       "      <td>64</td>\n",
       "      <td>103.941276</td>\n",
       "      <td>30.754493</td>\n",
       "      <td>620.905375</td>\n",
       "      <td>NaN</td>\n",
       "      <td>41.285580</td>\n",
       "      <td>...</td>\n",
       "      <td>59.448387</td>\n",
       "      <td>59.448387</td>\n",
       "      <td>59.448387</td>\n",
       "      <td>59.448387</td>\n",
       "      <td>44.218780</td>\n",
       "      <td>46.230804</td>\n",
       "      <td>45.202414</td>\n",
       "      <td>43.339978</td>\n",
       "      <td>43.774969</td>\n",
       "      <td>45.202414</td>\n",
       "    </tr>\n",
       "    <tr>\n",
       "      <th>3</th>\n",
       "      <td>3</td>\n",
       "      <td>1</td>\n",
       "      <td>104.062539</td>\n",
       "      <td>30.739077</td>\n",
       "      <td>311</td>\n",
       "      <td>104.060024</td>\n",
       "      <td>30.742693</td>\n",
       "      <td>467.552293</td>\n",
       "      <td>NaN</td>\n",
       "      <td>37.796143</td>\n",
       "      <td>...</td>\n",
       "      <td>38.472874</td>\n",
       "      <td>46.950858</td>\n",
       "      <td>50.244426</td>\n",
       "      <td>49.761663</td>\n",
       "      <td>51.894196</td>\n",
       "      <td>60.764919</td>\n",
       "      <td>50.244426</td>\n",
       "      <td>46.755229</td>\n",
       "      <td>32.152593</td>\n",
       "      <td>32.152593</td>\n",
       "    </tr>\n",
       "    <tr>\n",
       "      <th>4</th>\n",
       "      <td>4</td>\n",
       "      <td>1</td>\n",
       "      <td>104.062539</td>\n",
       "      <td>30.739077</td>\n",
       "      <td>1288</td>\n",
       "      <td>104.062071</td>\n",
       "      <td>30.732501</td>\n",
       "      <td>730.287581</td>\n",
       "      <td>NaN</td>\n",
       "      <td>60.548947</td>\n",
       "      <td>...</td>\n",
       "      <td>80.810511</td>\n",
       "      <td>80.810511</td>\n",
       "      <td>76.872377</td>\n",
       "      <td>77.360119</td>\n",
       "      <td>76.872377</td>\n",
       "      <td>75.819331</td>\n",
       "      <td>75.222755</td>\n",
       "      <td>75.222755</td>\n",
       "      <td>75.222755</td>\n",
       "      <td>74.794745</td>\n",
       "    </tr>\n",
       "  </tbody>\n",
       "</table>\n",
       "<p>5 rows × 59 columns</p>\n",
       "</div>"
      ],
      "text/plain": [
       "   Link  Node_Start  Longitude_Start  Latitude_Start  Node_End  Longitude_End  \\\n",
       "0     0           0       103.946006       30.750660        16     103.952551   \n",
       "1     1           0       103.946006       30.750660        48     103.956494   \n",
       "2     2           0       103.946006       30.750660        64     103.941276   \n",
       "3     3           1       104.062539       30.739077       311     104.060024   \n",
       "4     4           1       104.062539       30.739077      1288     104.062071   \n",
       "\n",
       "   Latitude_End       Length  Unnamed: 8       Data1  ...      Data41  \\\n",
       "0     30.756752   921.041014         NaN   89.587892  ...   73.957197   \n",
       "1     30.745080  1179.207157         NaN  121.986947  ...  113.506571   \n",
       "2     30.754493   620.905375         NaN   41.285580  ...   59.448387   \n",
       "3     30.742693   467.552293         NaN   37.796143  ...   38.472874   \n",
       "4     30.732501   730.287581         NaN   60.548947  ...   80.810511   \n",
       "\n",
       "       Data42      Data43      Data44      Data45      Data46      Data47  \\\n",
       "0   88.184778   72.003206   88.184778   73.852526   75.069991   72.673921   \n",
       "1  113.506571  140.895778  142.619070  139.213634  146.195291  132.868412   \n",
       "2   59.448387   59.448387   59.448387   44.218780   46.230804   45.202414   \n",
       "3   46.950858   50.244426   49.761663   51.894196   60.764919   50.244426   \n",
       "4   80.810511   76.872377   77.360119   76.872377   75.819331   75.222755   \n",
       "\n",
       "       Data48      Data49      Data50  \n",
       "0   77.629445   77.629445   83.310242  \n",
       "1  162.493618  162.493618  209.120481  \n",
       "2   43.339978   43.774969   45.202414  \n",
       "3   46.755229   32.152593   32.152593  \n",
       "4   75.222755   75.222755   74.794745  \n",
       "\n",
       "[5 rows x 59 columns]"
      ]
     },
     "execution_count": 5,
     "metadata": {},
     "output_type": "execute_result"
    }
   ],
   "source": [
    "df.head()"
   ]
  },
  {
   "cell_type": "code",
   "execution_count": 6,
   "metadata": {},
   "outputs": [],
   "source": [
    "import matplotlib.pyplot as plt"
   ]
  },
  {
   "cell_type": "code",
   "execution_count": 8,
   "metadata": {},
   "outputs": [
    {
     "data": {
      "text/plain": [
       "[<matplotlib.lines.Line2D at 0x2d83b52f550>]"
      ]
     },
     "execution_count": 8,
     "metadata": {},
     "output_type": "execute_result"
    },
    {
     "data": {
      "image/png": "[encoded data removed]",
      "text/plain": [
       "<Figure size 432x288 with 1 Axes>"
      ]
     },
     "metadata": {
      "needs_background": "light"
     },
     "output_type": "display_data"
    }
   ],
   "source": [
    "plt.plot(df[\"Node_Start\"],df[\"Node_End\"])"
   ]
  },
  {
   "cell_type": "code",
   "execution_count": null,
   "metadata": {},
   "outputs": [],
   "source": []
  }
 ],
 "metadata": {
  "kernelspec": {
   "display_name": "Python 3",
   "language": "python",
   "name": "python3"
  },
  "language_info": {
   "codemirror_mode": {
    "name": "ipython",
    "version": 3
   },
   "file_extension": ".py",
   "mimetype": "text/x-python",
   "name": "python",
   "nbconvert_exporter": "python",
   "pygments_lexer": "ipython3",
   "version": "3.8.5"
  }
 },
 "nbformat": 4,
 "nbformat_minor": 4
}
